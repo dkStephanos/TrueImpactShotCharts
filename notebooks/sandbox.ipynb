{
 "cells": [
  {
   "cell_type": "code",
   "execution_count": 1,
   "metadata": {},
   "outputs": [],
   "source": [
    "from code.io.EventProcessor import EventProcessor\n",
    "from code.io.TrackingProcessor import TrackingProcessor\n",
    "from code.io.PossessionProcessor import PossessionProcessor\n",
    "from code.io.ActionProcessor import ActionProcessor\n",
    "\n",
    "from code.util.StatsUtil import StatsUtil\n",
    "from code.util.ShotRegionUtil import ShotRegionUtil\n",
    "from code.util.VisUtil import VisUtil\n",
    "from code.util.FeatureUtil import FeatureUtil\n",
    "\n",
    "import matplotlib.pyplot as plt\n",
    "import pandas as pd\n",
    "plt.rcParams['animation.ffmpeg_path'] = r'C:\\FFmpeg\\bin\\ffmpeg.exe'\n",
    "\n",
    "GAME_ID = \"0022300869\"\n",
    "\n",
    "event_df = EventProcessor.load_games()\n",
    "tracking_df = TrackingProcessor.load_games()\n",
    "possession_df = PossessionProcessor.load_games()"
   ]
  },
  {
   "cell_type": "code",
   "execution_count": 2,
   "metadata": {},
   "outputs": [
    {
     "data": {
      "text/plain": [
       "1.1025641025641026"
      ]
     },
     "execution_count": 2,
     "metadata": {},
     "output_type": "execute_result"
    }
   ],
   "source": [
    "off_rebounds_df = EventProcessor.extract_off_rebounds(event_df)\n",
    "oreb_ppp = FeatureUtil.calculate_oreb_ppp(event_df, off_rebounds_df)\n",
    "oreb_ppp"
   ]
  },
  {
   "cell_type": "code",
   "execution_count": 3,
   "metadata": {},
   "outputs": [
    {
     "ename": "TypeError",
     "evalue": "StatsUtil.assign_rebound_chances_to_shots() got an unexpected keyword argument 'oreb_ppp'",
     "output_type": "error",
     "traceback": [
      "\u001b[0;31m---------------------------------------------------------------------------\u001b[0m",
      "\u001b[0;31mTypeError\u001b[0m                                 Traceback (most recent call last)",
      "Cell \u001b[0;32mIn[3], line 4\u001b[0m\n\u001b[1;32m      1\u001b[0m true_point_df \u001b[38;5;241m=\u001b[39m pd\u001b[38;5;241m.\u001b[39mread_csv(\u001b[38;5;124m'\u001b[39m\u001b[38;5;124m./../data/results/true_points.csv\u001b[39m\u001b[38;5;124m'\u001b[39m)\n\u001b[1;32m      2\u001b[0m reb_chances_df \u001b[38;5;241m=\u001b[39m pd\u001b[38;5;241m.\u001b[39mread_csv(\u001b[38;5;124m'\u001b[39m\u001b[38;5;124m./../data/results/reb_chances_full.csv\u001b[39m\u001b[38;5;124m'\u001b[39m)\n\u001b[0;32m----> 4\u001b[0m \u001b[43mStatsUtil\u001b[49m\u001b[38;5;241;43m.\u001b[39;49m\u001b[43massign_rebound_chances_to_shots\u001b[49m\u001b[43m(\u001b[49m\u001b[43mtrue_point_df\u001b[49m\u001b[43m,\u001b[49m\u001b[43m \u001b[49m\u001b[43mreb_chances_df\u001b[49m\u001b[43m,\u001b[49m\u001b[43m \u001b[49m\u001b[43moreb_ppp\u001b[49m\u001b[38;5;241;43m=\u001b[39;49m\u001b[38;5;241;43m1.1025641025641026\u001b[39;49m\u001b[43m)\u001b[49m\n",
      "\u001b[0;31mTypeError\u001b[0m: StatsUtil.assign_rebound_chances_to_shots() got an unexpected keyword argument 'oreb_ppp'"
     ]
    }
   ],
   "source": [
    "true_point_df = pd.read_csv('./../data/results/true_points.csv')\n",
    "reb_chances_df = pd.read_csv('./../data/results/reb_chances_full.csv')\n",
    "\n",
    "StatsUtil.assign_rebound_chances_to_shots(true_point_df, reb_chances_df, oreb_ppp=1.1025641025641026)"
   ]
  }
 ],
 "metadata": {
  "kernelspec": {
   "display_name": "Python 3 (ipykernel)",
   "language": "python",
   "name": "python3"
  },
  "language_info": {
   "codemirror_mode": {
    "name": "ipython",
    "version": 3
   },
   "file_extension": ".py",
   "mimetype": "text/x-python",
   "name": "python",
   "nbconvert_exporter": "python",
   "pygments_lexer": "ipython3",
   "version": "3.11.6"
  }
 },
 "nbformat": 4,
 "nbformat_minor": 2
}
