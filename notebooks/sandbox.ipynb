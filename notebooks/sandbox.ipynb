{
 "cells": [
  {
   "cell_type": "code",
   "execution_count": 1,
   "metadata": {},
   "outputs": [],
   "source": [
    "GAME_ID = \"0022300869\"\n",
    "\n",
    "event_df = EventProcessor.load_games()\n",
    "tracking_df = TrackingProcessor.load_games()\n",
    "possession_df = PossessionProcessor.load_games()"
   ]
  },
  {
   "cell_type": "code",
   "execution_count": 2,
   "metadata": {},
   "outputs": [],
   "source": [
    "shot_rebound_df = ActionProcessor.extract_shots_and_rebounds(event_df, tracking_df)\n",
    "shot_rebound_df\n",
    "shot_rebound_classified_df = FeatureUtil.classify_shot_locations(shot_rebound_df, possession_df, FeatureUtil.classify_shot_region)\n",
    "shot_rebound_classified_df.to_csv('./../data/results/shot_rebound_classified.csv', index=False)"
   ]
  },
  {
   "cell_type": "code",
   "execution_count": 3,
   "metadata": {},
   "outputs": [],
   "source": [
    "hexbin_region_data_df = StatsUtil.generate_region_hexbin_data(shot_rebound_classified_df, ShotRegionUtil.regions)\n",
    "hexbin_region_data_df.to_csv('./../data/results/rebound_hexmap_distributions.csv')"
   ]
  },
  {
   "cell_type": "code",
   "execution_count": 4,
   "metadata": {},
   "outputs": [
    {
     "name": "stderr",
     "output_type": "stream",
     "text": [
      "100%|██████████| 810/810 [44:42<00:00,  3.31s/it]  \n"
     ]
    }
   ],
   "source": [
    "#reb_chances_df = StatsUtil.assign_rebound_chances_to_shots(shot_rebound_classified_df, tracking_df, hexbin_region_data_df)\n",
    "#reb_chances_df.to_csv('./../data/results/reb_chances.csv')"
   ]
  },
  {
   "cell_type": "code",
   "execution_count": 5,
   "metadata": {},
   "outputs": [
    {
     "data": {
      "text/plain": [
       "1.1025641025641026"
      ]
     },
     "execution_count": 5,
     "metadata": {},
     "output_type": "execute_result"
    }
   ],
   "source": [
    "off_rebounds_df = EventProcessor.extract_off_rebounds(event_df)\n",
    "oreb_ppp = FeatureUtil.calculate_oreb_ppp(event_df, off_rebounds_df)\n",
    "oreb_ppp"
   ]
  },
  {
   "cell_type": "code",
   "execution_count": 8,
   "metadata": {},
   "outputs": [
    {
     "data": {
      "text/html": [
       "<div>\n",
       "<style scoped>\n",
       "    .dataframe tbody tr th:only-of-type {\n",
       "        vertical-align: middle;\n",
       "    }\n",
       "\n",
       "    .dataframe tbody tr th {\n",
       "        vertical-align: top;\n",
       "    }\n",
       "\n",
       "    .dataframe thead th {\n",
       "        text-align: right;\n",
       "    }\n",
       "</style>\n",
       "<table border=\"1\" class=\"dataframe\">\n",
       "  <thead>\n",
       "    <tr style=\"text-align: right;\">\n",
       "      <th></th>\n",
       "      <th>points_produced</th>\n",
       "      <th>true_points_produced</th>\n",
       "      <th>true_impact_points_produced</th>\n",
       "    </tr>\n",
       "  </thead>\n",
       "  <tbody>\n",
       "    <tr>\n",
       "      <th>count</th>\n",
       "      <td>1958.000000</td>\n",
       "      <td>1958.000000</td>\n",
       "      <td>1958.000000</td>\n",
       "    </tr>\n",
       "    <tr>\n",
       "      <th>mean</th>\n",
       "      <td>1.044433</td>\n",
       "      <td>1.173136</td>\n",
       "      <td>1.459532</td>\n",
       "    </tr>\n",
       "    <tr>\n",
       "      <th>std</th>\n",
       "      <td>1.187814</td>\n",
       "      <td>1.188496</td>\n",
       "      <td>1.215403</td>\n",
       "    </tr>\n",
       "    <tr>\n",
       "      <th>min</th>\n",
       "      <td>0.000000</td>\n",
       "      <td>0.000000</td>\n",
       "      <td>0.000000</td>\n",
       "    </tr>\n",
       "    <tr>\n",
       "      <th>25%</th>\n",
       "      <td>0.000000</td>\n",
       "      <td>0.000000</td>\n",
       "      <td>0.197792</td>\n",
       "    </tr>\n",
       "    <tr>\n",
       "      <th>50%</th>\n",
       "      <td>0.000000</td>\n",
       "      <td>1.000000</td>\n",
       "      <td>1.709318</td>\n",
       "    </tr>\n",
       "    <tr>\n",
       "      <th>75%</th>\n",
       "      <td>2.000000</td>\n",
       "      <td>2.000000</td>\n",
       "      <td>2.412185</td>\n",
       "    </tr>\n",
       "    <tr>\n",
       "      <th>max</th>\n",
       "      <td>3.000000</td>\n",
       "      <td>4.000000</td>\n",
       "      <td>4.749744</td>\n",
       "    </tr>\n",
       "  </tbody>\n",
       "</table>\n",
       "</div>"
      ],
      "text/plain": [
       "       points_produced  true_points_produced  true_impact_points_produced\n",
       "count      1958.000000           1958.000000                  1958.000000\n",
       "mean          1.044433              1.173136                     1.459532\n",
       "std           1.187814              1.188496                     1.215403\n",
       "min           0.000000              0.000000                     0.000000\n",
       "25%           0.000000              0.000000                     0.197792\n",
       "50%           0.000000              1.000000                     1.709318\n",
       "75%           2.000000              2.000000                     2.412185\n",
       "max           3.000000              4.000000                     4.749744"
      ]
     },
     "execution_count": 8,
     "metadata": {},
     "output_type": "execute_result"
    }
   ],
   "source": [
    "true_points_df = pd.read_csv('./../data/results/true_points.csv', dtype={'made': pd.BooleanDtype()})\n",
    "reb_chances_df = pd.read_csv('./../data/results/reb_chances.csv', dtype={'dReb': pd.BooleanDtype()})\n",
    "\n",
    "true_impact_points_df = StatsUtil.assign_oreb_expected_points_to_shots(true_points_df, reb_chances_df, oreb_ppp=1.1025641025641026)\n",
    "true_impact_points_df.to_csv('./../data/results/true_impact_points.csv', index=False)"
   ]
  },
  {
   "cell_type": "code",
   "execution_count": null,
   "metadata": {},
   "outputs": [],
   "source": [
    "true_impact_points_df = pd.read_csv('./../data/results/true_impact_points.csv')\n",
    "shot_classification_df = pd.read_csv('./../data/results/shot_rebound_classified.csv', dtype={'made': pd.BooleanDtype()})\n",
    "\n",
    "true_impact_points_df[['points_produced', 'true_points_produced', 'true_impact_points_produced']].describe()\n",
    "shot_classification_df = shot_classification_df.rename(columns={\"shot_time\": \"wcTime\"})\n",
    "merged_df = true_impact_points_df.merge(\n",
    "    shot_classification_df[['gameId', 'playerId', 'wcTime', 'shot_classification']],\n",
    "    on=['gameId', 'playerId', 'wcTime'],\n",
    "    how='left'\n",
    ")\n",
    "merged_df.to_csv('./../data/results/true_impact_points_classified.csv', index=False)"
   ]
  },
  {
   "cell_type": "code",
   "execution_count": null,
   "metadata": {},
   "outputs": [],
   "source": [
    "reb_chances_df = pd.read_csv('./../data/results/reb_chances.csv', dtype={'dReb': pd.BooleanDtype()})\n",
    "\n",
    "FeatureUtil.calculate_shot_statistics_by_region(merged_df)"
   ]
  },
  {
   "cell_type": "code",
   "execution_count": null,
   "metadata": {},
   "outputs": [],
   "source": [
    "misses = reb_chances_df.loc[reb_chances_df['made'] == False]\n",
    "FeatureUtil.calculate_brier_score_loss(misses)"
   ]
  },
  {
   "cell_type": "code",
   "execution_count": null,
   "metadata": {},
   "outputs": [],
   "source": [
    "VisUtil.plot_auc(misses['dReb'], misses['def_reb_chance'], \"Off/Def Rebounding Predictions\")"
   ]
  }
 ],
 "metadata": {
  "kernelspec": {
   "display_name": "Python 3 (ipykernel)",
   "language": "python",
   "name": "python3"
  },
  "language_info": {
   "codemirror_mode": {
    "name": "ipython",
    "version": 3
   },
   "file_extension": ".py",
   "mimetype": "text/x-python",
   "name": "python",
   "nbconvert_exporter": "python",
   "pygments_lexer": "ipython3",
   "version": "3.11.6"
  }
 },
 "nbformat": 4,
 "nbformat_minor": 2
}
