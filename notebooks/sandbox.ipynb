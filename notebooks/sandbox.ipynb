{
 "cells": [
  {
   "cell_type": "code",
   "execution_count": null,
   "metadata": {},
   "outputs": [],
   "source": [
    "from code.io.EventProcessor import EventProcessor\n",
    "from code.io.TrackingProcessor import TrackingProcessor\n",
    "from code.io.PossessionProcessor import PossessionProcessor\n",
    "from code.io.ActionProcessor import ActionProcessor\n",
    "\n",
    "from code.util.StatsUtil import StatsUtil\n",
    "from code.util.ShotRegionUtil import ShotRegionUtil\n",
    "from code.util.VisUtil import VisUtil\n",
    "from code.util.FeatureUtil import FeatureUtil\n",
    "\n",
    "import matplotlib.pyplot as plt\n",
    "import pandas as pd\n",
    "plt.rcParams['animation.ffmpeg_path'] = r'C:\\FFmpeg\\bin\\ffmpeg.exe'"
   ]
  }
 ],
 "metadata": {
  "language_info": {
   "name": "python"
  }
 },
 "nbformat": 4,
 "nbformat_minor": 2
}
