{
 "cells": [
  {
   "cell_type": "code",
   "execution_count": 1,
   "metadata": {},
   "outputs": [],
   "source": [
    "from code.io.EventProcessor import EventProcessor\n",
    "from code.io.TrackingProcessor import TrackingProcessor\n",
    "from code.io.PossessionProcessor import PossessionProcessor\n",
    "import matplotlib.pyplot as plt\n",
    "plt.rcParams['animation.ffmpeg_path'] = r'C:\\FFmpeg\\bin\\ffmpeg.exe'\n",
    "\n",
    "GAME_ID = \"0022300451\"\n",
    "\n",
    "event_df = EventProcessor.load_game(GAME_ID)\n",
    "tracking_df = TrackingProcessor.load_game(GAME_ID)\n",
    "possessions_df = PossessionProcessor.load_game(GAME_ID)"
   ]
  },
  {
   "cell_type": "code",
   "execution_count": 3,
   "metadata": {},
   "outputs": [
    {
     "name": "stdout",
     "output_type": "stream",
     "text": [
      "3922\n"
     ]
    },
    {
     "data": {
      "text/plain": [
       "array([2, 3, 0], dtype=int64)"
      ]
     },
     "execution_count": 3,
     "metadata": {},
     "output_type": "execute_result"
    }
   ],
   "source": [
    "from code.util.StatsUtil import StatsUtil\n",
    "\n",
    "true_point_events = StatsUtil.calculate_true_points(event_df)\n",
    "true_point_events['true_points_produced'].unique()"
   ]
  },
  {
   "cell_type": "code",
   "execution_count": 2,
   "metadata": {},
   "outputs": [],
   "source": [
    "transition_events = EventProcessor.extract_transition_opportunities(event_df)\n",
    "event = transition_events[0]\n",
    "start, end = EventProcessor.get_start_end_time_of_event(event)\n",
    "moment_df = TrackingProcessor.extract_moment_from_timestamps(tracking_df, start, end)"
   ]
  },
  {
   "cell_type": "code",
   "execution_count": 3,
   "metadata": {},
   "outputs": [
    {
     "name": "stdout",
     "output_type": "stream",
     "text": [
      "34.29 -41.75 <class 'float'> <class 'numpy.float64'>\n",
      "33.48 -41.75 <class 'float'> <class 'numpy.float64'>\n",
      "32.95 -41.75 <class 'float'> <class 'numpy.float64'>\n",
      "32.8 -41.75 <class 'float'> <class 'numpy.float64'>\n",
      "33.01 -41.75 <class 'float'> <class 'numpy.float64'>\n",
      "33.61 -41.75 <class 'float'> <class 'numpy.float64'>\n",
      "34.29 -41.75 <class 'float'> <class 'numpy.float64'>\n",
      "33.59 -41.75 <class 'float'> <class 'numpy.float64'>\n",
      "33.59 -41.75 <class 'float'> <class 'numpy.float64'>\n",
      "33.78 -41.75 <class 'float'> <class 'numpy.float64'>\n",
      "33.97 -41.75 <class 'float'> <class 'numpy.float64'>\n",
      "34.17 -41.75 <class 'float'> <class 'numpy.float64'>\n",
      "34.26 -41.75 <class 'float'> <class 'numpy.float64'>\n",
      "34.19 -41.75 <class 'float'> <class 'numpy.float64'>\n",
      "33.94 -41.75 <class 'float'> <class 'numpy.float64'>\n",
      "33.67 -41.75 <class 'float'> <class 'numpy.float64'>\n",
      "33.5 -41.75 <class 'float'> <class 'numpy.float64'>\n",
      "33.44 -41.75 <class 'float'> <class 'numpy.float64'>\n",
      "33.44 -41.75 <class 'float'> <class 'numpy.float64'>\n",
      "33.52 -41.75 <class 'float'> <class 'numpy.float64'>\n",
      "33.64 -41.75 <class 'float'> <class 'numpy.float64'>\n",
      "33.77 -41.75 <class 'float'> <class 'numpy.float64'>\n",
      "33.88 -41.75 <class 'float'> <class 'numpy.float64'>\n",
      "34.01 -41.75 <class 'float'> <class 'numpy.float64'>\n",
      "34.13 -41.75 <class 'float'> <class 'numpy.float64'>\n",
      "34.24 -41.75 <class 'float'> <class 'numpy.float64'>\n",
      "34.36 -41.75 <class 'float'> <class 'numpy.float64'>\n",
      "34.47 -41.75 <class 'float'> <class 'numpy.float64'>\n",
      "34.57 -41.75 <class 'float'> <class 'numpy.float64'>\n",
      "34.27 -41.75 <class 'float'> <class 'numpy.float64'>\n",
      "33.73 -41.75 <class 'float'> <class 'numpy.float64'>\n",
      "33.21 -41.75 <class 'float'> <class 'numpy.float64'>\n",
      "32.78 -41.75 <class 'float'> <class 'numpy.float64'>\n",
      "32.29 -41.75 <class 'float'> <class 'numpy.float64'>\n",
      "31.68 -41.75 <class 'float'> <class 'numpy.float64'>\n",
      "30.93 -41.75 <class 'float'> <class 'numpy.float64'>\n",
      "30.15 -41.75 <class 'float'> <class 'numpy.float64'>\n",
      "29.28 -41.75 <class 'float'> <class 'numpy.float64'>\n",
      "28.37 -41.75 <class 'float'> <class 'numpy.float64'>\n",
      "27.37 -41.75 <class 'float'> <class 'numpy.float64'>\n",
      "26.31 -41.75 <class 'float'> <class 'numpy.float64'>\n",
      "25.19 -41.75 <class 'float'> <class 'numpy.float64'>\n",
      "24.13 -41.75 <class 'float'> <class 'numpy.float64'>\n",
      "23.07 -41.75 <class 'float'> <class 'numpy.float64'>\n",
      "22.23 -41.75 <class 'float'> <class 'numpy.float64'>\n",
      "21.69 -41.75 <class 'float'> <class 'numpy.float64'>\n",
      "21.15 -41.75 <class 'float'> <class 'numpy.float64'>\n",
      "20.63 -41.75 <class 'float'> <class 'numpy.float64'>\n",
      "20.1 -41.75 <class 'float'> <class 'numpy.float64'>\n",
      "19.56 -41.75 <class 'float'> <class 'numpy.float64'>\n",
      "19.03 -41.75 <class 'float'> <class 'numpy.float64'>\n",
      "18.46 -41.75 <class 'float'> <class 'numpy.float64'>\n",
      "17.83 -41.75 <class 'float'> <class 'numpy.float64'>\n",
      "17.22 -41.75 <class 'float'> <class 'numpy.float64'>\n",
      "16.52 -41.75 <class 'float'> <class 'numpy.float64'>\n",
      "15.75 -41.75 <class 'float'> <class 'numpy.float64'>\n",
      "14.94 -41.75 <class 'float'> <class 'numpy.float64'>\n",
      "14.06 -41.75 <class 'float'> <class 'numpy.float64'>\n",
      "13.09 -41.75 <class 'float'> <class 'numpy.float64'>\n",
      "12.08 -41.75 <class 'float'> <class 'numpy.float64'>\n",
      "11.07 -41.75 <class 'float'> <class 'numpy.float64'>\n",
      "10.04 -41.75 <class 'float'> <class 'numpy.float64'>\n",
      "8.95 -41.75 <class 'float'> <class 'numpy.float64'>\n",
      "7.71 -41.75 <class 'float'> <class 'numpy.float64'>\n",
      "6.27 -41.75 <class 'float'> <class 'numpy.float64'>\n",
      "3.87 -41.75 <class 'float'> <class 'numpy.float64'>\n",
      "1.33 -41.75 <class 'float'> <class 'numpy.float64'>\n",
      "-1.1 -41.75 <class 'float'> <class 'numpy.float64'>\n",
      "{'timestamp': 1704139965840, 'x': -20.19, 'y': -21.86} {'timestamp': 1704139965520, 'x': -1.1, 'y': -19.51} {'timestamp': 1704139962840, 'x': 34.29, 'y': 0.37}\n"
     ]
    }
   ],
   "source": [
    "from code.util.FeatureUtil import FeatureUtil\n",
    "\n",
    "possession = PossessionProcessor.extract_possesion_by_timestamp(possessions_df, start)\n",
    "cross_3pt = FeatureUtil.find_ball_crossing_far_three_point_line(moment_df, possession.iloc[0][\"basketX\"])\n",
    "cross_half = FeatureUtil.find_ball_crossing_halfcourt(moment_df, possession.iloc[0][\"basketX\"])\n",
    "in_zone_of_death = FeatureUtil.find_ball_moment(moment_df, FeatureUtil.is_in_zone_of_death, possession.iloc[0][\"basketX\"])\n",
    "print(cross_3pt, cross_half, in_zone_of_death)"
   ]
  },
  {
   "cell_type": "code",
   "execution_count": 4,
   "metadata": {},
   "outputs": [],
   "source": [
    "from code.util.AnimationUtil import AnimationUtil\n",
    "\n",
    "#anim = AnimationUtil(moment_df)\n",
    "#anim.display_animation(possession.iloc[0])"
   ]
  }
 ],
 "metadata": {
  "kernelspec": {
   "display_name": "Python 3",
   "language": "python",
   "name": "python3"
  },
  "language_info": {
   "codemirror_mode": {
    "name": "ipython",
    "version": 3
   },
   "file_extension": ".py",
   "mimetype": "text/x-python",
   "name": "python",
   "nbconvert_exporter": "python",
   "pygments_lexer": "ipython3",
   "version": "3.11.4"
  }
 },
 "nbformat": 4,
 "nbformat_minor": 2
}
