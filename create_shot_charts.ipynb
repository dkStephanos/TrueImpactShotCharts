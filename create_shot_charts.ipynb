{
 "cells": [
  {
   "cell_type": "code",
   "execution_count": 1,
   "metadata": {},
   "outputs": [],
   "source": [
    "from code.io.EventProcessor import EventProcessor\n",
    "from code.io.TrackingProcessor import TrackingProcessor\n",
    "from code.io.PossessionProcessor import PossessionProcessor\n",
    "import matplotlib.pyplot as plt\n",
    "plt.rcParams['animation.ffmpeg_path'] = r'C:\\FFmpeg\\bin\\ffmpeg.exe'\n",
    "\n",
    "GAME_ID = \"0022300451\"\n",
    "\n",
    "event_df = EventProcessor.load_game(GAME_ID)\n",
    "#tracking_df = TrackingProcessor.load_game(GAME_ID)\n",
    "#possessions_df = PossessionProcessor.load_game(GAME_ID)"
   ]
  },
  {
   "cell_type": "code",
   "execution_count": 2,
   "metadata": {},
   "outputs": [
    {
     "data": {
      "text/plain": [
       "(1704139962840, 1704139968280)"
      ]
     },
     "execution_count": 2,
     "metadata": {},
     "output_type": "execute_result"
    }
   ],
   "source": [
    "transition_events = EventProcessor.extract_transition_events(event_df)\n",
    "EventProcessor.get_start_end_time_of_event(transition_events[0])"
   ]
  },
  {
   "cell_type": "code",
   "execution_count": 3,
   "metadata": {},
   "outputs": [],
   "source": [
    "from code.util.AnimationUtil import AnimationUtil\n",
    "\n",
    "#anim = AnimationUtil(tracking_df)\n",
    "#anim.display_animation(possessions_df.loc[possessions_df[\"outcome\"] == \"FGM\"].iloc[0])"
   ]
  }
 ],
 "metadata": {
  "kernelspec": {
   "display_name": "Python 3",
   "language": "python",
   "name": "python3"
  },
  "language_info": {
   "codemirror_mode": {
    "name": "ipython",
    "version": 3
   },
   "file_extension": ".py",
   "mimetype": "text/x-python",
   "name": "python",
   "nbconvert_exporter": "python",
   "pygments_lexer": "ipython3",
   "version": "3.11.4"
  }
 },
 "nbformat": 4,
 "nbformat_minor": 2
}
