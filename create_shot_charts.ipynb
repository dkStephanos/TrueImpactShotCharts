{
 "cells": [
  {
   "cell_type": "code",
   "execution_count": 1,
   "metadata": {},
   "outputs": [],
   "source": [
    "from code.EventProcessor import EventProcessor\n",
    "from code.TrackingProcessor import TrackingProcessor\n",
    "from code.PossessionProcessor import PossessionProcessor\n",
    "\n",
    "\n",
    "GAME_ID = \"0022300451\"\n",
    "\n",
    "event_df = EventProcessor.load_game(GAME_ID)\n",
    "tracking_df = TrackingProcessor.load_game(GAME_ID)\n",
    "possessions_df = PossessionProcessor.load_game(GAME_ID)"
   ]
  },
  {
   "cell_type": "code",
   "execution_count": 3,
   "metadata": {},
   "outputs": [
    {
     "name": "stdout",
     "output_type": "stream",
     "text": [
      "             gameId   playerId          playerName      teamId teamAbbr  \\\n",
      "6336869  0022300451  1626157.0  Karl-Anthony Towns  1610612750      MIN   \n",
      "6336870  0022300451   201144.0         Mike Conley  1610612750      MIN   \n",
      "6336871  0022300451  1630162.0     Anthony Edwards  1610612750      MIN   \n",
      "6336872  0022300451   203497.0         Rudy Gobert  1610612750      MIN   \n",
      "6336873  0022300451  1630183.0     Jaden McDaniels  1610612750      MIN   \n",
      "...             ...        ...                 ...         ...      ...   \n",
      "7128765  0022300451  1628392.0  Isaiah Hartenstein  1610612752      NYK   \n",
      "7128766  0022300451   203944.0       Julius Randle  1610612752      NYK   \n",
      "7128767  0022300451  1628404.0           Josh Hart  1610612752      NYK   \n",
      "7128768  0022300451  1628973.0       Jalen Brunson  1610612752      NYK   \n",
      "7128769  0022300451        NaN                 NaN          -1      NaN   \n",
      "\n",
      "         period         wcTime  gcTime  scTime      x      y     z    gameDate  \n",
      "6336869       1  1704140095760  512.53   18.29  27.96  15.55  0.00  2024-01-01  \n",
      "6336870       1  1704140095760  512.53   18.29  12.29  17.24  0.00  2024-01-01  \n",
      "6336871       1  1704140095760  512.53   18.29  40.54 -23.45  0.00  2024-01-01  \n",
      "6336872       1  1704140095760  512.53   18.29  16.19  -2.15  0.00  2024-01-01  \n",
      "6336873       1  1704140095760  512.53   18.29  16.45 -15.57  0.00  2024-01-01  \n",
      "...         ...            ...     ...     ...    ...    ...   ...         ...  \n",
      "7128765       4  1704148472960   17.36    0.00 -30.42  -3.43  0.00  2024-01-01  \n",
      "7128766       4  1704148472960   17.36    0.00 -41.52   3.85  0.00  2024-01-01  \n",
      "7128767       4  1704148472960   17.36    0.00 -40.37  -2.27  0.00  2024-01-01  \n",
      "7128768       4  1704148472960   17.36    0.00 -44.02   1.07  0.00  2024-01-01  \n",
      "7128769       4  1704148472960   17.36    0.00 -41.80  -0.67  6.16  2024-01-01  \n",
      "\n",
      "[791901 rows x 13 columns]\n",
      "gameId                       0022300451\n",
      "eventType                          SHOT\n",
      "playerId                        1626157\n",
      "playerName           Karl-Anthony Towns\n",
      "teamId                       1610612750\n",
      "teamAbbr                            MIN\n",
      "period                                1\n",
      "wcTime                    1704139876720\n",
      "wcTimeEnd                           NaN\n",
      "gcTime                           703.87\n",
      "scTime                              8.5\n",
      "fouledId                            NaN\n",
      "fouledName                          NaN\n",
      "foulType                            NaN\n",
      "made                               True\n",
      "three                             False\n",
      "fouled                            False\n",
      "assisted                          False\n",
      "receiverId                          NaN\n",
      "receiverName                        NaN\n",
      "distance                          5.107\n",
      "dReb                                NaN\n",
      "defenderProximity                  2.66\n",
      "defenderId                     203944.0\n",
      "defenderName              Julius Randle\n",
      "Name: 18, dtype: object\n",
      "Empty DataFrame\n",
      "Columns: [gameId, playerId, playerName, teamId, teamAbbr, period, wcTime, gcTime, scTime, x, y, z, gameDate]\n",
      "Index: []\n"
     ]
    },
    {
     "ename": "IndexError",
     "evalue": "single positional indexer is out-of-bounds",
     "output_type": "error",
     "traceback": [
      "\u001b[1;31m---------------------------------------------------------------------------\u001b[0m",
      "\u001b[1;31mIndexError\u001b[0m                                Traceback (most recent call last)",
      "Cell \u001b[1;32mIn[3], line 4\u001b[0m\n\u001b[0;32m      1\u001b[0m \u001b[38;5;28;01mfrom\u001b[39;00m \u001b[38;5;21;01mcode\u001b[39;00m\u001b[38;5;21;01m.\u001b[39;00m\u001b[38;5;21;01mAnimationUtil\u001b[39;00m \u001b[38;5;28;01mimport\u001b[39;00m AnimationUtil\n\u001b[0;32m      3\u001b[0m anim \u001b[38;5;241m=\u001b[39m AnimationUtil(tracking_df)\n\u001b[1;32m----> 4\u001b[0m \u001b[43manim\u001b[49m\u001b[38;5;241;43m.\u001b[39;49m\u001b[43mdisplay_animation\u001b[49m\u001b[43m(\u001b[49m\u001b[43mevent_df\u001b[49m\u001b[38;5;241;43m.\u001b[39;49m\u001b[43mloc\u001b[49m\u001b[43m[\u001b[49m\u001b[43mevent_df\u001b[49m\u001b[43m[\u001b[49m\u001b[38;5;124;43m\"\u001b[39;49m\u001b[38;5;124;43meventType\u001b[39;49m\u001b[38;5;124;43m\"\u001b[39;49m\u001b[43m]\u001b[49m\u001b[43m \u001b[49m\u001b[38;5;241;43m==\u001b[39;49m\u001b[43m \u001b[49m\u001b[38;5;124;43m\"\u001b[39;49m\u001b[38;5;124;43mSHOT\u001b[39;49m\u001b[38;5;124;43m\"\u001b[39;49m\u001b[43m]\u001b[49m\u001b[38;5;241;43m.\u001b[39;49m\u001b[43miloc\u001b[49m\u001b[43m[\u001b[49m\u001b[38;5;241;43m0\u001b[39;49m\u001b[43m]\u001b[49m\u001b[43m)\u001b[49m\n",
      "File \u001b[1;32mc:\\Users\\dkste\\Dev\\TrueImpactShotCharts\\code\\AnimationUtil.py:231\u001b[0m, in \u001b[0;36mAnimationUtil.display_animation\u001b[1;34m(self, event)\u001b[0m\n\u001b[0;32m    229\u001b[0m \u001b[38;5;28;01mdef\u001b[39;00m \u001b[38;5;21mdisplay_animation\u001b[39m(\u001b[38;5;28mself\u001b[39m, event):\n\u001b[0;32m    230\u001b[0m \u001b[38;5;250m    \u001b[39m\u001b[38;5;124;03m\"\"\"Configure and display the animation for the specified event number. Designed for inline Jupyter cells\"\"\"\u001b[39;00m\n\u001b[1;32m--> 231\u001b[0m     anim \u001b[38;5;241m=\u001b[39m \u001b[38;5;28;43mself\u001b[39;49m\u001b[38;5;241;43m.\u001b[39;49m\u001b[43m_create_animation\u001b[49m\u001b[43m(\u001b[49m\n\u001b[0;32m    232\u001b[0m \u001b[43m        \u001b[49m\u001b[43mevent\u001b[49m\u001b[38;5;241;43m=\u001b[39;49m\u001b[43mevent\u001b[49m\u001b[43m,\u001b[49m\u001b[43m \u001b[49m\u001b[43minterval\u001b[49m\u001b[38;5;241;43m=\u001b[39;49m\u001b[38;5;241;43m50\u001b[39;49m\n\u001b[0;32m    233\u001b[0m \u001b[43m    \u001b[49m\u001b[43m)\u001b[49m  \u001b[38;5;66;03m# To ensure the animation is created\u001b[39;00m\n\u001b[0;32m    234\u001b[0m     \u001b[38;5;28;01mreturn\u001b[39;00m HTML(anim\u001b[38;5;241m.\u001b[39mto_html5_video())\n",
      "File \u001b[1;32mc:\\Users\\dkste\\Dev\\TrueImpactShotCharts\\code\\AnimationUtil.py:218\u001b[0m, in \u001b[0;36mAnimationUtil._create_animation\u001b[1;34m(self, event, interval)\u001b[0m\n\u001b[0;32m    216\u001b[0m moments_df \u001b[38;5;241m=\u001b[39m TrackingProcessor\u001b[38;5;241m.\u001b[39mextract_event_moments(\u001b[38;5;28mself\u001b[39m\u001b[38;5;241m.\u001b[39mtracking_df, event)\n\u001b[0;32m    217\u001b[0m \u001b[38;5;28mprint\u001b[39m(moments_df)\n\u001b[1;32m--> 218\u001b[0m annotations, clock_info \u001b[38;5;241m=\u001b[39m \u001b[38;5;28mself\u001b[39m\u001b[38;5;241m.\u001b[39msetup_animation(\u001b[43mmoments_df\u001b[49m\u001b[38;5;241;43m.\u001b[39;49m\u001b[43miloc\u001b[49m\u001b[43m[\u001b[49m\u001b[38;5;241;43m0\u001b[39;49m\u001b[43m]\u001b[49m)\n\u001b[0;32m    220\u001b[0m \u001b[38;5;28;01mreturn\u001b[39;00m animation\u001b[38;5;241m.\u001b[39mFuncAnimation(\n\u001b[0;32m    221\u001b[0m     \u001b[38;5;28mself\u001b[39m\u001b[38;5;241m.\u001b[39mfig,\n\u001b[0;32m    222\u001b[0m     \u001b[38;5;28mself\u001b[39m\u001b[38;5;241m.\u001b[39manimate,\n\u001b[1;32m   (...)\u001b[0m\n\u001b[0;32m    226\u001b[0m     blit\u001b[38;5;241m=\u001b[39m\u001b[38;5;28;01mTrue\u001b[39;00m,\n\u001b[0;32m    227\u001b[0m )\n",
      "File \u001b[1;32mc:\\Users\\dkste\\AppData\\Local\\Programs\\Python\\Python311\\Lib\\site-packages\\pandas\\core\\indexing.py:1153\u001b[0m, in \u001b[0;36m_LocationIndexer.__getitem__\u001b[1;34m(self, key)\u001b[0m\n\u001b[0;32m   1150\u001b[0m axis \u001b[38;5;241m=\u001b[39m \u001b[38;5;28mself\u001b[39m\u001b[38;5;241m.\u001b[39maxis \u001b[38;5;129;01mor\u001b[39;00m \u001b[38;5;241m0\u001b[39m\n\u001b[0;32m   1152\u001b[0m maybe_callable \u001b[38;5;241m=\u001b[39m com\u001b[38;5;241m.\u001b[39mapply_if_callable(key, \u001b[38;5;28mself\u001b[39m\u001b[38;5;241m.\u001b[39mobj)\n\u001b[1;32m-> 1153\u001b[0m \u001b[38;5;28;01mreturn\u001b[39;00m \u001b[38;5;28;43mself\u001b[39;49m\u001b[38;5;241;43m.\u001b[39;49m\u001b[43m_getitem_axis\u001b[49m\u001b[43m(\u001b[49m\u001b[43mmaybe_callable\u001b[49m\u001b[43m,\u001b[49m\u001b[43m \u001b[49m\u001b[43maxis\u001b[49m\u001b[38;5;241;43m=\u001b[39;49m\u001b[43maxis\u001b[49m\u001b[43m)\u001b[49m\n",
      "File \u001b[1;32mc:\\Users\\dkste\\AppData\\Local\\Programs\\Python\\Python311\\Lib\\site-packages\\pandas\\core\\indexing.py:1714\u001b[0m, in \u001b[0;36m_iLocIndexer._getitem_axis\u001b[1;34m(self, key, axis)\u001b[0m\n\u001b[0;32m   1711\u001b[0m     \u001b[38;5;28;01mraise\u001b[39;00m \u001b[38;5;167;01mTypeError\u001b[39;00m(\u001b[38;5;124m\"\u001b[39m\u001b[38;5;124mCannot index by location index with a non-integer key\u001b[39m\u001b[38;5;124m\"\u001b[39m)\n\u001b[0;32m   1713\u001b[0m \u001b[38;5;66;03m# validate the location\u001b[39;00m\n\u001b[1;32m-> 1714\u001b[0m \u001b[38;5;28;43mself\u001b[39;49m\u001b[38;5;241;43m.\u001b[39;49m\u001b[43m_validate_integer\u001b[49m\u001b[43m(\u001b[49m\u001b[43mkey\u001b[49m\u001b[43m,\u001b[49m\u001b[43m \u001b[49m\u001b[43maxis\u001b[49m\u001b[43m)\u001b[49m\n\u001b[0;32m   1716\u001b[0m \u001b[38;5;28;01mreturn\u001b[39;00m \u001b[38;5;28mself\u001b[39m\u001b[38;5;241m.\u001b[39mobj\u001b[38;5;241m.\u001b[39m_ixs(key, axis\u001b[38;5;241m=\u001b[39maxis)\n",
      "File \u001b[1;32mc:\\Users\\dkste\\AppData\\Local\\Programs\\Python\\Python311\\Lib\\site-packages\\pandas\\core\\indexing.py:1647\u001b[0m, in \u001b[0;36m_iLocIndexer._validate_integer\u001b[1;34m(self, key, axis)\u001b[0m\n\u001b[0;32m   1645\u001b[0m len_axis \u001b[38;5;241m=\u001b[39m \u001b[38;5;28mlen\u001b[39m(\u001b[38;5;28mself\u001b[39m\u001b[38;5;241m.\u001b[39mobj\u001b[38;5;241m.\u001b[39m_get_axis(axis))\n\u001b[0;32m   1646\u001b[0m \u001b[38;5;28;01mif\u001b[39;00m key \u001b[38;5;241m>\u001b[39m\u001b[38;5;241m=\u001b[39m len_axis \u001b[38;5;129;01mor\u001b[39;00m key \u001b[38;5;241m<\u001b[39m \u001b[38;5;241m-\u001b[39mlen_axis:\n\u001b[1;32m-> 1647\u001b[0m     \u001b[38;5;28;01mraise\u001b[39;00m \u001b[38;5;167;01mIndexError\u001b[39;00m(\u001b[38;5;124m\"\u001b[39m\u001b[38;5;124msingle positional indexer is out-of-bounds\u001b[39m\u001b[38;5;124m\"\u001b[39m)\n",
      "\u001b[1;31mIndexError\u001b[0m: single positional indexer is out-of-bounds"
     ]
    }
   ],
   "source": [
    "from code.AnimationUtil import AnimationUtil\n",
    "\n",
    "anim = AnimationUtil(tracking_df)\n",
    "anim.display_animation(possessions_df.loc[possessions_df[\"outcome\"] == \"FGM\"].iloc[0])"
   ]
  }
 ],
 "metadata": {
  "kernelspec": {
   "display_name": "Python 3",
   "language": "python",
   "name": "python3"
  },
  "language_info": {
   "codemirror_mode": {
    "name": "ipython",
    "version": 3
   },
   "file_extension": ".py",
   "mimetype": "text/x-python",
   "name": "python",
   "nbconvert_exporter": "python",
   "pygments_lexer": "ipython3",
   "version": "3.11.4"
  }
 },
 "nbformat": 4,
 "nbformat_minor": 2
}
